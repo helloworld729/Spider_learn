{
 "cells": [
  {
   "cell_type": "code",
   "execution_count": 4,
   "metadata": {},
   "outputs": [],
   "source": [
    "import requests\n",
    "import re"
   ]
  },
  {
   "cell_type": "markdown",
   "metadata": {},
   "source": [
    "## 程序结构设计\n",
    "#### 步骤1：提交商品搜索请求，循环获取页面\n",
    "#### 步骤2：对于每个页面，提取商品名称和价格信息\n",
    "#### 步骤3：将信息输出到屏幕"
   ]
  },
  {
   "cell_type": "code",
   "execution_count": 133,
   "metadata": {},
   "outputs": [],
   "source": [
    "# 获取网页\n",
    "def get_html_text(url):\n",
    "    try:\n",
    "        r = requests.get(url, timeout=30)\n",
    "        r.raise_for_status()\n",
    "        r.encoding = r.apparent_encoding\n",
    "        return r.text\n",
    "    except:\n",
    "        return \"\"\n",
    "        "
   ]
  },
  {
   "cell_type": "code",
   "execution_count": 141,
   "metadata": {},
   "outputs": [],
   "source": [
    "# 网页解析\n",
    "def parsePage(info_list, html):\n",
    "    try:\n",
    "        plt = re.findall(r'\\\"view_price\\\"\\:\\\"[\\d\\.]*\\\"', html)  # 匹配每个位置是 数字或者点 的 任意长度 字符串\n",
    "        tlt = re.findall(r'\\\"raw_title\\\"\\:\\\".*?\\\"', html)  # 匹配若干字符 ?：表示最小匹配\n",
    "        for i in range(len(plt)):\n",
    "            price = eval(plt[i].split(':')[1])\n",
    "            title = eval(tlt[i].split(':')[1])\n",
    "            info_list.append([price, title])        \n",
    "    except:\n",
    "        return \"\""
   ]
  },
  {
   "cell_type": "code",
   "execution_count": 142,
   "metadata": {},
   "outputs": [],
   "source": [
    "# 信息输出\n",
    "def print_info(infolist):\n",
    "    pf = \"{:4}\\t{:8}\\t{:16}\"\n",
    "    print(pf.format(\"序号\",\"价格\",\"商品名称\"))\n",
    "    count = 0\n",
    "    for g in infolist:\n",
    "        count = count + 1\n",
    "        print(pf.format(count, g[0], g[1]))"
   ]
  },
  {
   "cell_type": "code",
   "execution_count": 143,
   "metadata": {},
   "outputs": [],
   "source": [
    "kv = {'cookie':'thw=cn; cna=PdvfFbP8qmcCAd8DTaG+cEn8; v=0; t=eb60b025571ebb9dc3322b10c80858ac; cookie2=1891b6fa7ced0e6ebcaa05f5b11b77d0; _tb_token_=57b16e34eeeb; unb=2002399149; uc3=nk2=q5ccXpBE&lg2=Vq8l%2BKCLz3%2F65A%3D%3D&vt3=F8dBy3MNgeVDnvIThW0%3D&id2=UUjRIG%2B7mmYCGw%3D%3D; csg=2ed2c55f; lgc=%5Cu4EFB%5Cu70B3%5Cu5148; cookie17=UUjRIG%2B7mmYCGw%3D%3D; dnk=%5Cu4EFB%5Cu70B3%5Cu5148; skt=1ccc3f4644d349c2; existShop=MTU2NjcwNTA3OA%3D%3D; uc4=id4=0%40U2ozl6EX%2BOswIFh%2FQnvHsJgSJ3sS&nk4=0%40qSIoWVsEltd4PVLrO3RXLYs%3D; tracknick=%5Cu4EFB%5Cu70B3%5Cu5148; _cc_=WqG3DMC9EA%3D%3D; tg=0; _l_g_=Ug%3D%3D; sg=%E5%85%8899; _nk_=%5Cu4EFB%5Cu70B3%5Cu5148; cookie1=UINO14AbOLBtlI6nnlE3EPmakbbnbtKHqHJareoNkiY%3D; enc=n%2FOKevWY8CEAmAyO%2BiOXy6de2a3MM0rfRXVsOExbrXB%2BdEI7TxggfGdMRT2jifUdKaRaNvKZG0iudAol5dXtKQ%3D%3D; hng=CN%7Czh-CN%7CCNY%7C156; mt=ci=74_1; swfstore=217968; x=e%3D1%26p%3D*%26s%3D0%26c%3D0%26f%3D0%26g%3D0%26t%3D0%26__ll%3D-1%26_ato%3D0; alitrackid=www.taobao.com; lastalitrackid=www.taobao.com; JSESSIONID=99B39E924A302464DB0EE38F49597828; uc1=cookie14=UoTaHoyydCFjyQ%3D%3D&lng=zh_CN&cookie16=URm48syIJ1yk0MX2J7mAAEhTuw%3D%3D&existShop=false&cookie21=W5iHLLyFeYZ1WM9hVLhR&tag=8&cookie15=V32FPkk%2Fw0dUvg%3D%3D&pas=0; isg=BHFxKh1OiGL22yR2xrpdwRdegP3UXahxOIDYS1OGATjsepPMm658ocXYmE65sn0I; l=cBO1f8RVqJ2tfN0SBOCwdkf1SJ_TlIRVguP3Y6AWi_5QT1Av2i_OkorMeev6cjWFTsYB4CWT0IpTze3L8yDXnSFpne1VivC..; whl=-1%260%260%261566706689827',\n",
    "      \"user-agent\": \"Mozilla/5.0\"} \n",
    "r = requests.get('https://s.taobao.com/search?q=书包', headers=kv, timeout=30)"
   ]
  },
  {
   "cell_type": "code",
   "execution_count": 144,
   "metadata": {},
   "outputs": [],
   "source": [
    "html = r.text"
   ]
  },
  {
   "cell_type": "code",
   "execution_count": 145,
   "metadata": {},
   "outputs": [
    {
     "name": "stdout",
     "output_type": "stream",
     "text": [
      "序号  \t价格      \t商品名称            \n",
      "   1\t109.00  \tkk树书包小学生男孩1-3-4-5年级儿童背包\n",
      "   2\t49.90   \t迪卡侬官网户外双肩包登山旅行包男书包初中高中学生休闲背包QUBP\n",
      "   3\t119.00  \tkk树书包小学生女孩6-12周岁儿童1-3-6年级女童双肩背包护脊减负\n",
      "   4\t109.00  \tkk树书包小学生男孩1-3-4-5年级儿童背包女孩6-12周岁双肩包护脊\n",
      "   5\t178.00  \t迪士尼儿童拉杆书包小学生三轮冰雪苏菲亚1-3-4年级女童双肩背包6\n",
      "   6\t98.00   \t迪士尼小学生书包女童1-3-4三四年级冰雪奇缘女孩儿童减负双肩包6\n",
      "   7\t58.00   \t开学双肩包男书包时尚潮流日韩版初中学生大高中学院校园旅行背包\n",
      "   8\t119.00  \tKK剑桥树书包小学生男孩1-3-5年级儿童6-12周岁男童双肩背包减负\n",
      "   9\t697.00  \tHerschel Supply Retreat经典色时尚潮流男女双肩包书包背包潮牌\n",
      "  10\t478.00  \tHerschel Supply City中号限量款双肩包女2019新款背包男书包时尚\n",
      "  11\t169.00  \tkk剑桥树儿童拉杆书包小学生男孩1-3-5年级女童6-12周岁防水爬楼\n",
      "  12\t378.00  \ttigerfamily儿童书包小学生一年级1-3 女男6岁耐磨减负护脊双肩包\n",
      "  13\t68.00   \t巴布豆旗舰店书包1-3年级护脊减负儿童书包男4-6小学生书包轻便\n",
      "  14\t59.00   \t双肩包男士背包大容量旅行包电脑休闲女时尚潮流高中初中学生书包\n",
      "  15\t89.00   \t迪士尼书包小学生男童1-3-4五年级6-12周岁女孩儿童减负双肩背包\n",
      "  16\t75.00   \t迪士尼儿童书包小学生男童1-3一6年级6-12岁漫威书包男孩双肩背包\n",
      "  17\t69.00   \t酷仔王子儿童拉杆书包3-5-6年级女童6-12周岁小学生书包三轮拖拉\n",
      "  18\t499.00  \tFjallraven/北极狐双肩包kanken书包女户外旅行背包官方旗舰23510\n",
      "  19\t178.00  \t书包小学生男童1-3-4-6年级牛津大学儿童6-12周岁一减负护脊女孩5\n",
      "  20\t169.00  \tFA儿童拉杆书包小学生女孩6-12周岁女童1-3-5-6年级防水爬楼拖拉\n",
      "  21\t299.00  \tUNIKER拉杆书包初高中小学生男6-12周岁双肩背包儿童旅行李袋女孩\n",
      "  22\t159.00  \t山猫吉咪书包小学生男一1-3年级4-6减负护脊女孩子儿童双肩包轻便\n",
      "  23\t75.00   \t迪士尼书包儿童小学生女1-3一年级冰雪奇缘爱莎公主双肩背包女童5\n",
      "  24\t138.00  \t瑞士军刀双肩包男背包休闲商务旅行大容量瑞士书包高中生电脑男士\n",
      "  25\t58.00   \t双肩包男士背包大学生大容量旅行电脑女时尚潮流高中初中学生书包\n",
      "  26\t169.00  \t双肩包男背包瑞士军士刀商务大容量电脑包瑞士军刀旅行包学生书包\n",
      "  27\t75.80   \t双肩包男士背包大容量旅行包电脑休闲女时尚潮流高中初中学生书包\n",
      "  28\t88.00   \t迪士尼儿童书包男童小学生一三四六年级女男孩轻便美国队长双肩包\n",
      "  29\t138.00  \tlarkpad书包男小学生1-3-4-6年级减负护脊儿童双肩背包女孩超轻便\n",
      "  30\t49.00   \t小学生书包6-12周岁 女儿童双肩包 3-5年级女童背包 1-3年级女孩\n",
      "  31\t79.00   \t中学生书包女韩版高中双肩包2019新款ins风小学生简约初中生背包\n",
      "  32\t138.00  \t儿童三轮六拉杆书包中小学生男孩1-3-4-5-6年级女防水箱可爬楼梯2\n",
      "  33\t69.00   \t迪士尼书包小学生4-6年级1-3-5三四五六女超轻便儿童米奇男童书包\n",
      "  34\t399.00  \tuniker初中小学生拉杆书包男孩大轮子儿童大容量旅行包女行李箱包\n",
      "  35\t59.00   \t巴布豆儿童书包男 中小学生1-3-4-6年级女童轻便减负护脊双肩背包\n",
      "  36\t98.00   \t迪士尼书包小学生女童1-3-6年级公主女孩韩版轻便儿童休闲双肩包8\n",
      "  37\t799.00  \t挪威官方正品Beckmann小学生书包女男儿童护脊减压背包1-3年级\n",
      "  38\t49.85   \t书包小学生幼儿园儿童背包男童一二三四五六年级文具双肩包\n",
      "  39\t58.00   \t背包男士双肩包时尚潮流韩版休闲旅行包大学高中生初中学生书包男\n",
      "  40\t139.00  \tpinkland儿童书包小学生男1-3-4-6年级女孩6-12周岁背包护脊书包\n",
      "  41\t99.00   \tKVG书包小学生男1-3一年级4-6儿童双肩减负护脊椎背包女孩子轻便\n",
      "  42\t39.00   \t小学生书包男童1-3-4年级双肩男孩6-12周岁轻便防水男生儿童背包\n",
      "  43\t58.00   \t开学初中生书包男中学生书包女高中时尚潮流大学生双肩包旅行背包\n",
      "  44\t138.00  \t迪士尼小学生书包儿童男孩1-3一4-6三年级美国队长男童减负学生包\n",
      "  45\t59.80   \t商务背包男士双肩包韩版潮流旅行包休闲女学生书包简约时尚电脑包\n",
      "  46\t188.00  \t迪士尼拉杆书包小学生女男孩1-3一6年级儿童蜘蛛侠六轮拉杆箱拖拉\n",
      "  47\t49.80   \t小学生书包男1-3-4-6一年级5男孩子女童儿童定制做双肩背包印logo\n",
      "  48\t109.00  \t迪士尼小学生书包减负轻便儿童超轻1-3-4-6年级护脊一女男童背包5\n"
     ]
    }
   ],
   "source": [
    "infolist = []\n",
    "parsePage(infolist, html)\n",
    "print_info(infolist)"
   ]
  },
  {
   "cell_type": "markdown",
   "metadata": {},
   "source": [
    "### 正则操作符练习"
   ]
  },
  {
   "cell_type": "code",
   "execution_count": 5,
   "metadata": {},
   "outputs": [
    {
     "data": {
      "text/plain": [
       "['ab', 'aa', 'fg']"
      ]
     },
     "execution_count": 5,
     "metadata": {},
     "output_type": "execute_result"
    }
   ],
   "source": [
    "re.findall(r'[af].', 'abcaabbccfg')  # 匹配a或者f开头的长度为2的字符"
   ]
  },
  {
   "cell_type": "code",
   "execution_count": 8,
   "metadata": {},
   "outputs": [
    {
     "data": {
      "text/plain": [
       "['a', 'afafaa', 'f']"
      ]
     },
     "execution_count": 8,
     "metadata": {},
     "output_type": "execute_result"
    }
   ],
   "source": [
    "re.findall(r'[af]+', 'abcafafaabbccfg')  # 匹配每个位置是a或者f且长度至少为1（贪婪匹配）"
   ]
  },
  {
   "cell_type": "code",
   "execution_count": 153,
   "metadata": {},
   "outputs": [
    {
     "data": {
      "text/plain": [
       "['a', '', '', 'aa', '', '', '', '', 'f', '', '']"
      ]
     },
     "execution_count": 153,
     "metadata": {},
     "output_type": "execute_result"
    }
   ],
   "source": [
    "re.findall(r'[af]*', 'abcaabbccfg')  # 匹配 每个位置 是 a或者f 的长度至少为0的字符"
   ]
  },
  {
   "cell_type": "code",
   "execution_count": 11,
   "metadata": {},
   "outputs": [
    {
     "data": {
      "text/plain": [
       "['ba']"
      ]
     },
     "execution_count": 11,
     "metadata": {},
     "output_type": "execute_result"
    }
   ],
   "source": [
    "re.findall(r'ba$','abcaba')"
   ]
  },
  {
   "cell_type": "markdown",
   "metadata": {},
   "source": [
    "### 在开始处匹配（最多只返回一个结果）"
   ]
  },
  {
   "cell_type": "code",
   "execution_count": 182,
   "metadata": {},
   "outputs": [
    {
     "data": {
      "text/plain": [
       "['abcd', 'abcd', 'abbb']"
      ]
     },
     "execution_count": 182,
     "metadata": {},
     "output_type": "execute_result"
    }
   ],
   "source": [
    "string = \"abcd0abcd2abb3abbbb\"\n",
    "re.findall(\"[a-z]{4}\",string)   # 每轮 匹配 四个字符串"
   ]
  },
  {
   "cell_type": "code",
   "execution_count": 184,
   "metadata": {},
   "outputs": [
    {
     "data": {
      "text/plain": [
       "['abcd']"
      ]
     },
     "execution_count": 184,
     "metadata": {},
     "output_type": "execute_result"
    }
   ],
   "source": [
    "re.findall(\"^[a-z]{4}\",'abcd0abcd2abb3abbbb')  #在开始位置 匹配四个字符串，并且判断是不是原始字符串开头，如果不是就什么都不返回"
   ]
  },
  {
   "cell_type": "code",
   "execution_count": 10,
   "metadata": {},
   "outputs": [
    {
     "data": {
      "text/plain": [
       "[]"
      ]
     },
     "execution_count": 10,
     "metadata": {},
     "output_type": "execute_result"
    }
   ],
   "source": [
    "re.findall(\"^[a-z]{4}\",'3abcd0abcd2abb3abbbb')  #在开始位置 匹配四个字符串，并且判断是不是原始字符串开头，如果不是就什么都不返回"
   ]
  },
  {
   "cell_type": "markdown",
   "metadata": {},
   "source": [
    "### 在结尾处匹配（最多只返回一个结果）"
   ]
  },
  {
   "cell_type": "code",
   "execution_count": 187,
   "metadata": {},
   "outputs": [
    {
     "data": {
      "text/plain": [
       "['abcd', 'abce', 'abcd']"
      ]
     },
     "execution_count": 187,
     "metadata": {},
     "output_type": "execute_result"
    }
   ],
   "source": [
    "string = \"0abcdabce2abcd3abc2ab\"\n",
    "re.findall(\"[a-z]{4}\",string)   # 每轮 匹配 四个字符串"
   ]
  },
  {
   "cell_type": "code",
   "execution_count": 190,
   "metadata": {},
   "outputs": [
    {
     "data": {
      "text/plain": [
       "['ab']"
      ]
     },
     "execution_count": 190,
     "metadata": {},
     "output_type": "execute_result"
    }
   ],
   "source": [
    "string = \"0abcdabce2abcd3abcab\" # 在结尾处 匹配两个字符 并且 判断是否是 字符结尾，不会迭代\n",
    "re.findall(\"[a-z]{2}$\",string)"
   ]
  },
  {
   "cell_type": "code",
   "execution_count": 191,
   "metadata": {},
   "outputs": [
    {
     "data": {
      "text/plain": [
       "[]"
      ]
     },
     "execution_count": 191,
     "metadata": {},
     "output_type": "execute_result"
    }
   ],
   "source": [
    "re.findall(\"[a-z]{4}$\",\"0abcdabce2abcd3abc2ab\")  # 每次从结尾 会匹配4个字符串 ，但是结尾最多2 个字符，不符合规则"
   ]
  },
  {
   "cell_type": "code",
   "execution_count": 14,
   "metadata": {},
   "outputs": [
    {
     "data": {
      "text/plain": [
       "['匹配中文']"
      ]
     },
     "execution_count": 14,
     "metadata": {},
     "output_type": "execute_result"
    }
   ],
   "source": [
    "re.findall(\"[\\u4e00-\\u9fa5]{4}\",\"0abcdabce2abcd3a匹配中文c2ab\")  # 匹配中文"
   ]
  },
  {
   "cell_type": "code",
   "execution_count": 26,
   "metadata": {},
   "outputs": [
    {
     "data": {
      "text/plain": [
       "['055255']"
      ]
     },
     "execution_count": 26,
     "metadata": {},
     "output_type": "execute_result"
    }
   ],
   "source": [
    "re.findall(\"^[0-9][1-9]{4}[0-9]$\", \"055255\")  # 长度为6的数字"
   ]
  },
  {
   "cell_type": "code",
   "execution_count": null,
   "metadata": {},
   "outputs": [],
   "source": []
  }
 ],
 "metadata": {
  "kernelspec": {
   "display_name": "Python 3",
   "language": "python",
   "name": "python3"
  },
  "language_info": {
   "codemirror_mode": {
    "name": "ipython",
    "version": 3
   },
   "file_extension": ".py",
   "mimetype": "text/x-python",
   "name": "python",
   "nbconvert_exporter": "python",
   "pygments_lexer": "ipython3",
   "version": "3.6.2"
  }
 },
 "nbformat": 4,
 "nbformat_minor": 2
}
